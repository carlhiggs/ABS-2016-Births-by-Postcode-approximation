{
 "cells": [
  {
   "cell_type": "markdown",
   "id": "1f89a230",
   "metadata": {},
   "source": [
    "# Cleaning and evaluating persons aged zero by postcode dataset\n",
    "Carl Higgs, 28 April 2023\n",
    "\n",
    "Evaluating if 'persons aged zero by postcode' provides a fair approximation for births by postcode by evaluating similarity with Queensland birth by mothers postcode data.\n",
    "\n",
    "Data on births by postcode may not be available from the Australian Bureau of Statistics (e.g. it is available for SA2s, SA4s and LGAs here), however some disease incidence data that needs to be related to births (ie. gestational Diabetes Mellitus) is only available for postcode and not SA2, SA4 or LGA. This code relates data on persons aged zero at the 2016 census for Australian postcodes to Queensland open data on births by mother's postcode of residence to see if it matches well.\n",
    "\n",
    "This is a scoping exercise to produce data for potential epidemiological analysis by Wubet Takele.\n"
   ]
  },
  {
   "cell_type": "code",
   "execution_count": 1,
   "id": "c2830ecb",
   "metadata": {},
   "outputs": [],
   "source": [
    "# import required software\n",
    "import pandas as pd\n",
    "import matplotlib.pyplot as plt"
   ]
  },
  {
   "cell_type": "code",
   "execution_count": 2,
   "id": "a960c8c3",
   "metadata": {},
   "outputs": [],
   "source": [
    "# import data (prepared using ABS Table Builder Pro on 28 April 2023)\n",
    "# probably could get this data from an official release, but on this occasion\n",
    "# The table was prepared for POA (UR) rows (thats postal codes for 2016 and State, eg \"7250, TAS\")\n",
    "# with columns of persons aged zero (Age==0) by place of usual residence\n",
    "# under the assumption that this is approximately equivalent to 'birth by postcode' or by \"mother's postcode\".\n",
    "file = 'data/ABS 2016 Census TableBuilder - Counting Persons, Place of Usual Residence (MB) - Age Zero by Postcode.csv'\n",
    "\n",
    "# unnecessary header and footer rows are skipped, and only first two columns are retained\n",
    "df = pd.read_csv(file, header=7, skipfooter=11,usecols=[0,1], engine='python',index_col=False,names=['POA_2016, State','Age==0'])"
   ]
  },
  {
   "cell_type": "markdown",
   "id": "528a3a8f",
   "metadata": {},
   "source": [
    "# Important usage notes copied from the footer text:\n",
    "> The ABS Table Builder data is Copyright Commonwealth of Australia, 2021, see abs.gov.au/copyright\n",
    "\n",
    "> ABS data licensed under Creative Commons, see abs.gov.au/ccby\n",
    "\n",
    "> Cells in this table have been randomly adjusted to avoid the release of confidential data. No reliance should be placed on small cells.\n",
    "\n",
    "So, the data is released under CC BY 4.0 licence, and caution should be used with small cell counts (< 15?) as there is random perturbation."
   ]
  },
  {
   "cell_type": "code",
   "execution_count": 3,
   "id": "0f896f16",
   "metadata": {},
   "outputs": [],
   "source": [
    "# Clean the persons age zero by postcode data, and save this for potential later use\n",
    "\n",
    "# ensure the \"postcode, state\" column is consistently formatted with seperation as ', '\n",
    "df['POA_2016, State'] = df['POA_2016, State'].str.replace(' crosses ',', ')\n",
    "\n",
    "# split postcode and state\n",
    "df[['POA_2016', 'State']] = df['POA_2016, State'].str.split(', ', expand=True)\n",
    "\n",
    "# restrict to useful columns\n",
    "df = df[['POA_2016','State','Age==0']]\n",
    "\n",
    "# cast data to int64\n",
    "df = df.astype(\n",
    "    {\n",
    "    'POA_2016': 'int64',\n",
    "    'State': 'object',\n",
    "    'Age==0': 'int64',\n",
    "    }\n",
    ")\n",
    "\n",
    "# save cleaned data\n",
    "df.to_csv(file.replace('.csv',' - cleaned.csv'))"
   ]
  },
  {
   "cell_type": "markdown",
   "id": "b6371546",
   "metadata": {},
   "source": [
    "# Simple validation analysis\n",
    "\n",
    "Births by mother's postcode of usual residence is available as open data from the Queensland government, for 2016 and other years.   We can retrieve this and compare the two datasets, restricted to Queensland postcodes under the assumption that both should have approximately full counts that should approximately correspond.\n",
    "\n",
    "The Queensland data was retrieved from: https://www.data.qld.gov.au/dataset/610e7ac0-ba60-4c67-8e99-7c57f3659f6a/resource/4abc0175-7f8c-49d1-b997-765267539af6/download/20170119_bdm_births-by-mothers-postcode-2016.csv\n",
    "\n",
    "The data was published by the Queensland Government Department of Justice and Attorney-General on their open data portal at https://www.data.qld.gov.au/dataset/births-by-mothers-postcode under CC BY 4.0 licence."
   ]
  },
  {
   "cell_type": "code",
   "execution_count": 4,
   "id": "0a440bca",
   "metadata": {},
   "outputs": [],
   "source": [
    "# load the data\n",
    "births = pd.read_csv('data/QLD - 20170119_bdm_births-by-mothers-postcode-2016.csv')"
   ]
  },
  {
   "cell_type": "code",
   "execution_count": 5,
   "id": "2eb220f0",
   "metadata": {},
   "outputs": [],
   "source": [
    "# join datasets on postcode, and restrict to Queensland postcodes for fair comparison\n",
    "# (as some queensland births were to mothers in other states, but those are not full counts for those locations)\n",
    "comparison = pd.concat([df.set_index('POA_2016'),births.set_index('Postcode')],axis=1)\\\n",
    "    .query('State==\"QLD\"')"
   ]
  },
  {
   "cell_type": "code",
   "execution_count": 6,
   "id": "f3042e83",
   "metadata": {},
   "outputs": [
    {
     "data": {
      "text/plain": [
       "<AxesSubplot:xlabel='Age==0', ylabel='Transactions'>"
      ]
     },
     "execution_count": 6,
     "metadata": {},
     "output_type": "execute_result"
    },
    {
     "data": {
      "image/png": "[encoded data removed]",
      "text/plain": [
       "<Figure size 432x288 with 1 Axes>"
      ]
     },
     "metadata": {
      "needs_background": "light"
     },
     "output_type": "display_data"
    }
   ],
   "source": [
    "# Scatterplot of births (labelled as 'Transactions'!) by persons with 'Age==0' at the 2016 census\n",
    "comparison.plot.scatter(y='Transactions',x='Age==0')"
   ]
  },
  {
   "cell_type": "code",
   "execution_count": 7,
   "id": "fc51dfb4",
   "metadata": {
    "scrolled": false
   },
   "outputs": [
    {
     "data": {
      "text/html": [
       "<div>\n",
       "<style scoped>\n",
       "    .dataframe tbody tr th:only-of-type {\n",
       "        vertical-align: middle;\n",
       "    }\n",
       "\n",
       "    .dataframe tbody tr th {\n",
       "        vertical-align: top;\n",
       "    }\n",
       "\n",
       "    .dataframe thead th {\n",
       "        text-align: right;\n",
       "    }\n",
       "</style>\n",
       "<table border=\"1\" class=\"dataframe\">\n",
       "  <thead>\n",
       "    <tr style=\"text-align: right;\">\n",
       "      <th></th>\n",
       "      <th>Age==0</th>\n",
       "      <th>Transactions</th>\n",
       "    </tr>\n",
       "  </thead>\n",
       "  <tbody>\n",
       "    <tr>\n",
       "      <th>Age==0</th>\n",
       "      <td>1.000000</td>\n",
       "      <td>0.996237</td>\n",
       "    </tr>\n",
       "    <tr>\n",
       "      <th>Transactions</th>\n",
       "      <td>0.996237</td>\n",
       "      <td>1.000000</td>\n",
       "    </tr>\n",
       "  </tbody>\n",
       "</table>\n",
       "</div>"
      ],
      "text/plain": [
       "                Age==0  Transactions\n",
       "Age==0        1.000000      0.996237\n",
       "Transactions  0.996237      1.000000"
      ]
     },
     "execution_count": 7,
     "metadata": {},
     "output_type": "execute_result"
    }
   ],
   "source": [
    "# correlation matrix  (although -- the data isn't normally distributed, both positively skewed, so not really a fair comparison)\n",
    "comparison.corr()"
   ]
  },
  {
   "cell_type": "code",
   "execution_count": 8,
   "id": "fd1aed6e",
   "metadata": {},
   "outputs": [
    {
     "data": {
      "text/html": [
       "<div>\n",
       "<style scoped>\n",
       "    .dataframe tbody tr th:only-of-type {\n",
       "        vertical-align: middle;\n",
       "    }\n",
       "\n",
       "    .dataframe tbody tr th {\n",
       "        vertical-align: top;\n",
       "    }\n",
       "\n",
       "    .dataframe thead th {\n",
       "        text-align: right;\n",
       "    }\n",
       "</style>\n",
       "<table border=\"1\" class=\"dataframe\">\n",
       "  <thead>\n",
       "    <tr style=\"text-align: right;\">\n",
       "      <th></th>\n",
       "      <th>Age==0</th>\n",
       "      <th>Transactions</th>\n",
       "    </tr>\n",
       "  </thead>\n",
       "  <tbody>\n",
       "    <tr>\n",
       "      <th>count</th>\n",
       "      <td>436.000000</td>\n",
       "      <td>368.000000</td>\n",
       "    </tr>\n",
       "    <tr>\n",
       "      <th>mean</th>\n",
       "      <td>123.747706</td>\n",
       "      <td>164.040761</td>\n",
       "    </tr>\n",
       "    <tr>\n",
       "      <th>std</th>\n",
       "      <td>180.232317</td>\n",
       "      <td>211.483230</td>\n",
       "    </tr>\n",
       "    <tr>\n",
       "      <th>min</th>\n",
       "      <td>0.000000</td>\n",
       "      <td>5.000000</td>\n",
       "    </tr>\n",
       "    <tr>\n",
       "      <th>25%</th>\n",
       "      <td>10.000000</td>\n",
       "      <td>23.000000</td>\n",
       "    </tr>\n",
       "    <tr>\n",
       "      <th>50%</th>\n",
       "      <td>51.000000</td>\n",
       "      <td>85.500000</td>\n",
       "    </tr>\n",
       "    <tr>\n",
       "      <th>75%</th>\n",
       "      <td>169.750000</td>\n",
       "      <td>227.250000</td>\n",
       "    </tr>\n",
       "    <tr>\n",
       "      <th>max</th>\n",
       "      <td>1262.000000</td>\n",
       "      <td>1467.000000</td>\n",
       "    </tr>\n",
       "  </tbody>\n",
       "</table>\n",
       "</div>"
      ],
      "text/plain": [
       "            Age==0  Transactions\n",
       "count   436.000000    368.000000\n",
       "mean    123.747706    164.040761\n",
       "std     180.232317    211.483230\n",
       "min       0.000000      5.000000\n",
       "25%      10.000000     23.000000\n",
       "50%      51.000000     85.500000\n",
       "75%     169.750000    227.250000\n",
       "max    1262.000000   1467.000000"
      ]
     },
     "execution_count": 8,
     "metadata": {},
     "output_type": "execute_result"
    }
   ],
   "source": [
    "comparison.describe()"
   ]
  },
  {
   "cell_type": "code",
   "execution_count": 9,
   "id": "53ea5889",
   "metadata": {},
   "outputs": [
    {
     "data": {
      "image/png": "[encoded data removed]",
      "text/plain": [
       "<Figure size 432x288 with 1 Axes>"
      ]
     },
     "metadata": {
      "needs_background": "light"
     },
     "output_type": "display_data"
    }
   ],
   "source": [
    "import matplotlib.pyplot as plt\n",
    "import numpy as np\n",
    "\n",
    "colors = ['blue','yellow']\n",
    "\n",
    "bins = np.linspace(0, comparison.max().values[-1], 20)\n",
    "\n",
    "#plots the histogram\n",
    "fig, ax = plt.subplots()\n",
    "ax.hist([comparison['Transactions'],comparison['Age==0']],bins=bins, color=colors, label=['Births','Age==0'])\n",
    "ax.set_xlim(0,comparison.max().values[-1])\n",
    "ax.set_xlabel(\"Count by postcode\")\n",
    "ax.set_ylabel(\"Frequency\")\n",
    "ax.legend(prop={'size': 10})\n",
    "plt.tight_layout()\n",
    "\n",
    "plt.show()"
   ]
  },
  {
   "cell_type": "markdown",
   "id": "d74733a3",
   "metadata": {},
   "source": [
    "I think the data provides a relatively acceptable approximation.  While the Age==0 data may have some upward bias for postal codes with lower counts (< 200), the trends are broadly similar and there is a strong conceptual match to the data.  I think this suggests that the use of this data for other locations in Australia could provide an adequate approximation of births for use in other analysis.  However, those using the data may wish to conduct further and more detailed validation analyses that take care to account for the skewed distributions of these datasets."
   ]
  }
 ],
 "metadata": {
  "kernelspec": {
   "display_name": "Python 3 (ipykernel)",
   "language": "python",
   "name": "python3"
  },
  "language_info": {
   "codemirror_mode": {
    "name": "ipython",
    "version": 3
   },
   "file_extension": ".py",
   "mimetype": "text/x-python",
   "name": "python",
   "nbconvert_exporter": "python",
   "pygments_lexer": "ipython3",
   "version": "3.8.5"
  }
 },
 "nbformat": 4,
 "nbformat_minor": 5
}
